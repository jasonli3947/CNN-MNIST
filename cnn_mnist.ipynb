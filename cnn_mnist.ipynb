{
 "cells": [
  {
   "cell_type": "markdown",
   "metadata": {},
   "source": [
    "# Convolution Neural Network: Handwritten Digit Recognition"
   ]
  },
  {
   "cell_type": "markdown",
   "metadata": {},
   "source": [
    "This notebook uses the classic [MNIST handwritten digit](http://yann.lecun.com/exdb/mnist/) dataset, which contains digit 0-9 images of size 28*28. We build a CNN model to predict the class of digit."
   ]
  },
  {
   "cell_type": "code",
   "execution_count": 1,
   "metadata": {},
   "outputs": [],
   "source": [
    "%matplotlib inline\n",
    "import matplotlib.pyplot as plt\n",
    "import numpy as np\n",
    "import pandas as pd\n",
    "import time\n",
    "\n",
    "\n",
    "import tensorflow as tf\n",
    "from tensorflow import keras\n",
    "from tensorflow.keras import layers\n",
    "from tensorflow.keras.datasets import mnist\n"
   ]
  },
  {
   "cell_type": "markdown",
   "metadata": {},
   "source": [
    "## The MNIST dataset"
   ]
  },
  {
   "cell_type": "markdown",
   "metadata": {},
   "source": [
    "### Get the data\n",
    "MNIST dataset is provided by Keras directly. The following codes show how to load it. "
   ]
  },
  {
   "cell_type": "code",
   "execution_count": 2,
   "metadata": {
    "tags": []
   },
   "outputs": [],
   "source": [
    "# the data, shuffled and split between train and test sets \n",
    "(X_train_pre, y_train_pre), (X_test_pre, y_test_pre) = mnist.load_data()"
   ]
  },
  {
   "cell_type": "markdown",
   "metadata": {},
   "source": [
    "### Reshape and normalize the features"
   ]
  },
  {
   "cell_type": "code",
   "execution_count": 3,
   "metadata": {},
   "outputs": [
    {
     "name": "stdout",
     "output_type": "stream",
     "text": [
      "training data shape: (60000, 28, 28, 1)\n",
      "60000 train samples, 10000 test samples\n"
     ]
    }
   ],
   "source": [
    "img_rows, img_cols = 28, 28\n",
    "input_shape = (img_rows, img_cols, 1)\n",
    "X_train = X_train_pre.reshape(X_train_pre.shape[0], img_rows, img_cols, 1) \n",
    "X_test = X_test_pre.reshape(X_test_pre.shape[0], img_rows, img_cols, 1) \n",
    "X_train = X_train.astype('float32') \n",
    "X_test = X_test.astype('float32') \n",
    "X_train /= 255. \n",
    "X_test /= 255.\n",
    "\n",
    "print('training data shape:', X_train.shape)\n",
    "print('{} train samples, {} test samples'.format(X_train.shape[0], X_test.shape[0]))"
   ]
  },
  {
   "cell_type": "markdown",
   "metadata": {},
   "source": [
    "### convert class vectors to binary class matrices\n",
    "convert class label to one-hot coding"
   ]
  },
  {
   "cell_type": "code",
   "execution_count": 4,
   "metadata": {},
   "outputs": [],
   "source": [
    "num_classes = 10 # 0-9\n",
    "y_train = keras.utils.to_categorical(y_train_pre, num_classes)\n",
    "y_test = keras.utils.to_categorical(y_test_pre, num_classes)"
   ]
  },
  {
   "cell_type": "markdown",
   "metadata": {},
   "source": [
    "## The model"
   ]
  },
  {
   "cell_type": "markdown",
   "metadata": {},
   "source": [
    "### Build the model"
   ]
  },
  {
   "cell_type": "code",
   "execution_count": 5,
   "metadata": {
    "tags": []
   },
   "outputs": [],
   "source": [
    "model = keras.Sequential()\n",
    "model.add(layers.Conv2D(filters = 10, kernel_size=(5, 5), # padding = \"same\",\n",
    "                 activation='relu',\n",
    "                 input_shape=X_train.shape[1:]))\n",
    "model.add(layers.MaxPooling2D(pool_size=(2, 2)))\n",
    "model.add(layers.Conv2D(20, (5, 5), activation='relu'))\n",
    "model.add(layers.MaxPooling2D(pool_size=(2, 2)))\n",
    "#model.add(layers.Dropout(0.25))\n",
    "model.add(layers.Flatten())\n",
    "model.add(layers.Dense(100, activation='relu'))\n",
    "#model.add(layers.Dropout(0.5))\n",
    "model.add(layers.Dense(num_classes, activation='softmax'))\n",
    "\n",
    "optimizer = keras.optimizers.RMSprop(0.001)\n",
    "model.compile(loss='categorical_crossentropy',\n",
    "              optimizer=optimizer,\n",
    "              metrics=['accuracy'])"
   ]
  },
  {
   "cell_type": "markdown",
   "metadata": {},
   "source": [
    "### Inspect the model\n",
    "\n",
    "Use the `.summary` method to print a simple description of the model"
   ]
  },
  {
   "cell_type": "code",
   "execution_count": 6,
   "metadata": {},
   "outputs": [
    {
     "name": "stdout",
     "output_type": "stream",
     "text": [
      "Model: \"sequential\"\n",
      "_________________________________________________________________\n",
      "Layer (type)                 Output Shape              Param #   \n",
      "=================================================================\n",
      "conv2d (Conv2D)              (None, 24, 24, 10)        260       \n",
      "_________________________________________________________________\n",
      "max_pooling2d (MaxPooling2D) (None, 12, 12, 10)        0         \n",
      "_________________________________________________________________\n",
      "conv2d_1 (Conv2D)            (None, 8, 8, 20)          5020      \n",
      "_________________________________________________________________\n",
      "max_pooling2d_1 (MaxPooling2 (None, 4, 4, 20)          0         \n",
      "_________________________________________________________________\n",
      "flatten (Flatten)            (None, 320)               0         \n",
      "_________________________________________________________________\n",
      "dense (Dense)                (None, 100)               32100     \n",
      "_________________________________________________________________\n",
      "dense_1 (Dense)              (None, 10)                1010      \n",
      "=================================================================\n",
      "Total params: 38,390\n",
      "Trainable params: 38,390\n",
      "Non-trainable params: 0\n",
      "_________________________________________________________________\n"
     ]
    }
   ],
   "source": [
    "model.summary()"
   ]
  },
  {
   "cell_type": "markdown",
   "metadata": {},
   "source": [
    "### Train the model"
   ]
  },
  {
   "cell_type": "code",
   "execution_count": 7,
   "metadata": {},
   "outputs": [
    {
     "name": "stdout",
     "output_type": "stream",
     "text": [
      "Epoch 1/20\n",
      "375/375 [==============================] - 7s 17ms/step - loss: 0.3495 - accuracy: 0.8932 - val_loss: 0.1147 - val_accuracy: 0.9670\n",
      "Epoch 2/20\n",
      "375/375 [==============================] - 6s 16ms/step - loss: 0.0973 - accuracy: 0.9706 - val_loss: 0.0871 - val_accuracy: 0.9737\n",
      "Epoch 3/20\n",
      "375/375 [==============================] - 6s 17ms/step - loss: 0.0654 - accuracy: 0.9793 - val_loss: 0.0616 - val_accuracy: 0.9815\n",
      "Epoch 4/20\n",
      "375/375 [==============================] - 7s 18ms/step - loss: 0.0501 - accuracy: 0.9845 - val_loss: 0.0648 - val_accuracy: 0.9811\n",
      "Epoch 5/20\n",
      "375/375 [==============================] - 6s 16ms/step - loss: 0.0407 - accuracy: 0.9876 - val_loss: 0.0613 - val_accuracy: 0.9808\n",
      "Epoch 6/20\n",
      "375/375 [==============================] - 6s 16ms/step - loss: 0.0342 - accuracy: 0.9893 - val_loss: 0.0491 - val_accuracy: 0.9862\n",
      "Epoch 7/20\n",
      "375/375 [==============================] - 6s 17ms/step - loss: 0.0286 - accuracy: 0.9910 - val_loss: 0.0411 - val_accuracy: 0.9889\n",
      "Epoch 8/20\n",
      "375/375 [==============================] - 6s 17ms/step - loss: 0.0247 - accuracy: 0.9925 - val_loss: 0.0468 - val_accuracy: 0.9867\n",
      "Epoch 9/20\n",
      "375/375 [==============================] - 6s 17ms/step - loss: 0.0210 - accuracy: 0.9933 - val_loss: 0.0446 - val_accuracy: 0.9879\n"
     ]
    }
   ],
   "source": [
    "EPOCHS = 20\n",
    "BATCH = 128\n",
    "early_stop = keras.callbacks.EarlyStopping(monitor='val_loss', patience=2)\n",
    "\n",
    "# use validation_split argument to do train-validation split\n",
    "history = model.fit(X_train, y_train, \n",
    "                    batch_size=BATCH, epochs=EPOCHS, \n",
    "                    validation_split = 0.2, verbose=1,\n",
    "                    callbacks=[early_stop])"
   ]
  },
  {
   "cell_type": "code",
   "execution_count": 8,
   "metadata": {},
   "outputs": [
    {
     "data": {
      "image/png": "[encoded data removed]",
      "text/plain": [
       "<Figure size 432x288 with 1 Axes>"
      ]
     },
     "metadata": {
      "needs_background": "light"
     },
     "output_type": "display_data"
    }
   ],
   "source": [
    "def plot_history(history):\n",
    "    hist = pd.DataFrame(history.history)\n",
    "    hist['epoch'] = history.epoch\n",
    "    hist.tail()\n",
    "\n",
    "    plt.figure()\n",
    "    plt.xlabel('Epoch')\n",
    "    plt.ylabel('Accuracy')\n",
    "    plt.plot(hist['epoch'], hist['accuracy'], label=\"train\")\n",
    "    plt.plot(hist['epoch'], hist['val_accuracy'], label=\"val\")\n",
    "    plt.legend()\n",
    "    plt.show()\n",
    "\n",
    "plot_history(history)"
   ]
  },
  {
   "cell_type": "markdown",
   "metadata": {},
   "source": [
    "### Make predictions"
   ]
  },
  {
   "cell_type": "markdown",
   "metadata": {},
   "source": [
    "Calculate the classification accuracy for testing set"
   ]
  },
  {
   "cell_type": "code",
   "execution_count": 9,
   "metadata": {},
   "outputs": [
    {
     "name": "stdout",
     "output_type": "stream",
     "text": [
      "Testing set accuracy: 99.08%\n"
     ]
    }
   ],
   "source": [
    "_, acc = model.evaluate(X_test, y_test, verbose=0)\n",
    "\n",
    "print(\"Testing set accuracy: {:.2f}%\".format(acc*100))"
   ]
  },
  {
   "cell_type": "markdown",
   "metadata": {},
   "source": [
    "Make predictions for testing data"
   ]
  },
  {
   "cell_type": "code",
   "execution_count": 10,
   "metadata": {},
   "outputs": [
    {
     "data": {
      "text/plain": [
       "array([7, 2, 1, 0, 4])"
      ]
     },
     "execution_count": 10,
     "metadata": {},
     "output_type": "execute_result"
    }
   ],
   "source": [
    "y_pred = np.argmax(model.predict(X_test), axis=-1)\n",
    "y_pred[:5]"
   ]
  },
  {
   "cell_type": "markdown",
   "metadata": {},
   "source": [
    "Visualize predictions"
   ]
  },
  {
   "cell_type": "code",
   "execution_count": 11,
   "metadata": {},
   "outputs": [
    {
     "data": {
      "image/png": "[encoded data removed]",
      "text/plain": [
       "<Figure size 648x648 with 9 Axes>"
      ]
     },
     "metadata": {},
     "output_type": "display_data"
    }
   ],
   "source": [
    "fig = plt.figure(figsize=(9, 9))\n",
    "col = 3\n",
    "row = 3\n",
    "for i in range(col*row):\n",
    "    pred = y_pred[i]\n",
    "    img = X_test_pre[i,:]\n",
    "    fig.add_subplot(row, col, i+1)\n",
    "    plt.title('Predicted label is {}'.format(pred))\n",
    "    plt.xticks([])\n",
    "    plt.yticks([])\n",
    "    plt.imshow(img, cmap='gray')\n",
    "plt.show()"
   ]
  },
  {
   "cell_type": "markdown",
   "metadata": {},
   "source": [
    "## With Dropout"
   ]
  },
  {
   "cell_type": "code",
   "execution_count": 12,
   "metadata": {},
   "outputs": [],
   "source": [
    "model = keras.Sequential()\n",
    "model.add(layers.Conv2D(filters = 10, kernel_size=(5, 5), # padding = \"same\",\n",
    "                 activation='relu',\n",
    "                 input_shape=X_train.shape[1:]))\n",
    "model.add(layers.MaxPooling2D(pool_size=(2, 2)))\n",
    "model.add(layers.Conv2D(20, (5, 5), activation='relu'))\n",
    "model.add(layers.MaxPooling2D(pool_size=(2, 2)))\n",
    "model.add(layers.Flatten())\n",
    "model.add(layers.Dropout(0.25))\n",
    "model.add(layers.Dense(100, activation='relu'))\n",
    "model.add(layers.Dense(num_classes, activation='softmax'))\n",
    "\n",
    "optimizer = keras.optimizers.RMSprop(0.001)\n",
    "model.compile(loss='categorical_crossentropy',\n",
    "              optimizer=optimizer,\n",
    "              metrics=['accuracy'])"
   ]
  },
  {
   "cell_type": "code",
   "execution_count": 13,
   "metadata": {},
   "outputs": [
    {
     "name": "stdout",
     "output_type": "stream",
     "text": [
      "Model: \"sequential_1\"\n",
      "_________________________________________________________________\n",
      "Layer (type)                 Output Shape              Param #   \n",
      "=================================================================\n",
      "conv2d_2 (Conv2D)            (None, 24, 24, 10)        260       \n",
      "_________________________________________________________________\n",
      "max_pooling2d_2 (MaxPooling2 (None, 12, 12, 10)        0         \n",
      "_________________________________________________________________\n",
      "conv2d_3 (Conv2D)            (None, 8, 8, 20)          5020      \n",
      "_________________________________________________________________\n",
      "max_pooling2d_3 (MaxPooling2 (None, 4, 4, 20)          0         \n",
      "_________________________________________________________________\n",
      "flatten_1 (Flatten)          (None, 320)               0         \n",
      "_________________________________________________________________\n",
      "dropout (Dropout)            (None, 320)               0         \n",
      "_________________________________________________________________\n",
      "dense_2 (Dense)              (None, 100)               32100     \n",
      "_________________________________________________________________\n",
      "dense_3 (Dense)              (None, 10)                1010      \n",
      "=================================================================\n",
      "Total params: 38,390\n",
      "Trainable params: 38,390\n",
      "Non-trainable params: 0\n",
      "_________________________________________________________________\n"
     ]
    }
   ],
   "source": [
    "model.summary()"
   ]
  },
  {
   "cell_type": "code",
   "execution_count": 14,
   "metadata": {},
   "outputs": [
    {
     "name": "stdout",
     "output_type": "stream",
     "text": [
      "Epoch 1/20\n",
      "375/375 [==============================] - 7s 18ms/step - loss: 0.3503 - accuracy: 0.8933 - val_loss: 0.0986 - val_accuracy: 0.9702\n",
      "Epoch 2/20\n",
      "375/375 [==============================] - 7s 18ms/step - loss: 0.1045 - accuracy: 0.9680 - val_loss: 0.0652 - val_accuracy: 0.9813\n",
      "Epoch 3/20\n",
      "375/375 [==============================] - 7s 18ms/step - loss: 0.0788 - accuracy: 0.9754 - val_loss: 0.0533 - val_accuracy: 0.9839\n",
      "Epoch 4/20\n",
      "375/375 [==============================] - 7s 19ms/step - loss: 0.0627 - accuracy: 0.9805 - val_loss: 0.0454 - val_accuracy: 0.9862\n",
      "Epoch 5/20\n",
      "375/375 [==============================] - 7s 20ms/step - loss: 0.0539 - accuracy: 0.9836 - val_loss: 0.0407 - val_accuracy: 0.9877\n",
      "Epoch 6/20\n",
      "375/375 [==============================] - 7s 20ms/step - loss: 0.0480 - accuracy: 0.9845 - val_loss: 0.0402 - val_accuracy: 0.9891\n",
      "Epoch 7/20\n",
      "375/375 [==============================] - 7s 19ms/step - loss: 0.0432 - accuracy: 0.9867 - val_loss: 0.0363 - val_accuracy: 0.9892\n",
      "Epoch 8/20\n",
      "375/375 [==============================] - 8s 21ms/step - loss: 0.0391 - accuracy: 0.9879 - val_loss: 0.0393 - val_accuracy: 0.9883\n",
      "Epoch 9/20\n",
      "375/375 [==============================] - 8s 20ms/step - loss: 0.0367 - accuracy: 0.9881 - val_loss: 0.0340 - val_accuracy: 0.9895\n",
      "Epoch 10/20\n",
      "375/375 [==============================] - 8s 22ms/step - loss: 0.0347 - accuracy: 0.9892 - val_loss: 0.0334 - val_accuracy: 0.9906\n",
      "Epoch 11/20\n",
      "375/375 [==============================] - 7s 20ms/step - loss: 0.0316 - accuracy: 0.9900 - val_loss: 0.0323 - val_accuracy: 0.9910\n",
      "Epoch 12/20\n",
      "375/375 [==============================] - 7s 20ms/step - loss: 0.0316 - accuracy: 0.9896 - val_loss: 0.0348 - val_accuracy: 0.9906\n",
      "Epoch 13/20\n",
      "375/375 [==============================] - 8s 20ms/step - loss: 0.0282 - accuracy: 0.9910 - val_loss: 0.0296 - val_accuracy: 0.9912\n",
      "Epoch 14/20\n",
      "375/375 [==============================] - 8s 21ms/step - loss: 0.0260 - accuracy: 0.9915 - val_loss: 0.0311 - val_accuracy: 0.9915\n",
      "Epoch 15/20\n",
      "375/375 [==============================] - 8s 21ms/step - loss: 0.0255 - accuracy: 0.9921 - val_loss: 0.0446 - val_accuracy: 0.9883\n"
     ]
    }
   ],
   "source": [
    "EPOCHS = 20\n",
    "BATCH = 128\n",
    "early_stop = keras.callbacks.EarlyStopping(monitor='val_loss', patience=2)\n",
    "\n",
    "# use validation_split argument to do train-validation split\n",
    "history = model.fit(X_train, y_train, \n",
    "                    batch_size=BATCH, epochs=EPOCHS, \n",
    "                    validation_split = 0.2, verbose=1,\n",
    "                    callbacks=[early_stop])"
   ]
  },
  {
   "cell_type": "code",
   "execution_count": 15,
   "metadata": {},
   "outputs": [
    {
     "data": {
      "image/png": "[encoded data removed]",
      "text/plain": [
       "<Figure size 432x288 with 1 Axes>"
      ]
     },
     "metadata": {
      "needs_background": "light"
     },
     "output_type": "display_data"
    }
   ],
   "source": [
    "plot_history(history)"
   ]
  },
  {
   "cell_type": "code",
   "execution_count": 16,
   "metadata": {},
   "outputs": [
    {
     "name": "stdout",
     "output_type": "stream",
     "text": [
      "Testing set accuracy: 99.06%\n"
     ]
    }
   ],
   "source": [
    "_, acc = model.evaluate(X_test, y_test, verbose=0)\n",
    "\n",
    "print(\"Testing set accuracy: {:.2f}%\".format(acc*100))"
   ]
  },
  {
   "cell_type": "code",
   "execution_count": null,
   "metadata": {},
   "outputs": [],
   "source": []
  }
 ],
 "metadata": {
  "kernelspec": {
   "display_name": "Python 3 (ipykernel)",
   "language": "python",
   "name": "python3"
  },
  "language_info": {
   "codemirror_mode": {
    "name": "ipython",
    "version": 3
   },
   "file_extension": ".py",
   "mimetype": "text/x-python",
   "name": "python",
   "nbconvert_exporter": "python",
   "pygments_lexer": "ipython3",
   "version": "3.9.7"
  }
 },
 "nbformat": 4,
 "nbformat_minor": 4
}
